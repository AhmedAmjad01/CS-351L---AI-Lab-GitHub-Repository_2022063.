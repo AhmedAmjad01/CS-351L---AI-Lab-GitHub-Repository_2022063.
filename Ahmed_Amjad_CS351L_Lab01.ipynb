{
  "nbformat": 4,
  "nbformat_minor": 0,
  "metadata": {
    "colab": {
      "provenance": []
    },
    "kernelspec": {
      "name": "python3",
      "display_name": "Python 3"
    },
    "language_info": {
      "name": "python"
    }
  },
  "cells": [
    {
      "cell_type": "code",
      "execution_count": null,
      "metadata": {
        "colab": {
          "base_uri": "https://localhost:8080/"
        },
        "id": "A0BZNJdu8jDz",
        "outputId": "939ea749-7aab-45b7-d40f-ca125e6572a8"
      },
      "outputs": [
        {
          "output_type": "stream",
          "name": "stdout",
          "text": [
            "Welcome to the Number Guessing Game!\n",
            "Guess a number between 1 and 100. You have 10 attempts.\n",
            "Enter your guess: 20\n",
            "Too low!\n",
            "Enter your guess: 50\n",
            "Too high!\n",
            "Enter your guess: 30\n",
            "Too high!\n",
            "Enter your guess: 25\n",
            "Congratulations! You guessed the number in 4 attempts.\n"
          ]
        }
      ],
      "source": [
        "import random\n",
        "\n",
        "def number_guessing_game():\n",
        "    # The computer selects a random number between 1 and 100\n",
        "    number_to_guess = random.randint(1, 100)\n",
        "    attempts = 0\n",
        "    max_attempts = 10  # Player has 10 attempts to guess the number\n",
        "\n",
        "    print(\"Welcome to the Number Guessing Game!\")\n",
        "    print(\"Guess a number between 1 and 100. You have 10 attempts.\")\n",
        "\n",
        "    # Loop for the player to make guesses\n",
        "    while attempts < max_attempts:\n",
        "        guess = int(input(\"Enter your guess: \"))\n",
        "        attempts += 1\n",
        "\n",
        "        if guess < number_to_guess:\n",
        "            print(\"Too low!\")\n",
        "        elif guess > number_to_guess:\n",
        "            print(\"Too high!\")\n",
        "        else:\n",
        "            print(f\"Congratulations! You guessed the number in {attempts} attempts.\")\n",
        "            return\n",
        "\n",
        "    print(f\"Sorry, you've used all your attempts. The number was {number_to_guess}.\")\n",
        "\n",
        "# Run the game\n",
        "number_guessing_game()"
      ]
    },
    {
      "cell_type": "code",
      "source": [
        "def ai_number_guessing_game():\n",
        "    # Player selects a number\n",
        "    print(\"Think of a number between 1 and 100, and I (the AI) will try to guess it.\")\n",
        "    low = 1\n",
        "    high = 100\n",
        "    attempts = 0\n",
        "\n",
        "    # Loop until the AI guesses the number correctly\n",
        "    while low <= high:\n",
        "        guess = (low + high) // 2  # AI uses binary search to guess\n",
        "        attempts += 1\n",
        "\n",
        "        print(f\"AI's guess is: {guess}\")\n",
        "        feedback = input(\"Enter 'h' if too high, 'l' if too low, or 'c' if correct: \").lower()\n",
        "\n",
        "        if feedback == 'c':\n",
        "            print(f\"I (AI) guessed the number in {attempts} attempts!\")\n",
        "            return\n",
        "        elif feedback == 'h':\n",
        "            high = guess - 1  # If too high, reduce the upper bound\n",
        "        elif feedback == 'l':\n",
        "            low = guess + 1  # If too low, increase the lower bound\n",
        "\n",
        "    print(\"Something went wrong!\")\n",
        "\n",
        "# Run the AI version\n",
        "ai_number_guessing_game()"
      ],
      "metadata": {
        "colab": {
          "base_uri": "https://localhost:8080/"
        },
        "id": "TOTXv_KQ9YcJ",
        "outputId": "02edd699-1164-459b-f8c4-18a67100259a"
      },
      "execution_count": null,
      "outputs": [
        {
          "output_type": "stream",
          "name": "stdout",
          "text": [
            "Think of a number between 1 and 100, and I (the AI) will try to guess it.\n",
            "AI's guess is: 50\n",
            "Enter 'h' if too high, 'l' if too low, or 'c' if correct: l\n",
            "AI's guess is: 75\n",
            "Enter 'h' if too high, 'l' if too low, or 'c' if correct: h\n",
            "AI's guess is: 62\n",
            "Enter 'h' if too high, 'l' if too low, or 'c' if correct: h\n",
            "AI's guess is: 56\n",
            "Enter 'h' if too high, 'l' if too low, or 'c' if correct: l\n",
            "AI's guess is: 59\n",
            "Enter 'h' if too high, 'l' if too low, or 'c' if correct: l\n",
            "AI's guess is: 60\n",
            "Enter 'h' if too high, 'l' if too low, or 'c' if correct: c\n",
            "I (AI) guessed the number in 6 attempts!\n"
          ]
        }
      ]
    },
    {
      "cell_type": "code",
      "source": [
        "import random\n",
        "\n",
        "def dfs_number_guessing_game():\n",
        "\n",
        "  # AI guesses a number\n",
        "  print(\"think of a number between 1 to 100 and AI will guess it\")\n",
        "  low = 1\n",
        "  high = 100\n",
        "  attempts = 0\n",
        "  max_attempts = 10\n",
        "  # Start the guessing from 50\n",
        "  #current_guess = 50\n",
        "\n",
        "# loop goes on until it guesses the correct number\n",
        "  while low <= high and attempts < max_attempts:\n",
        "    current_guess = random.randint(low, high)\n",
        "\n",
        "    attempts += 1\n",
        "    print(f\"Ai guess is: {current_guess}\")\n",
        "\n",
        "    feedback = input(\"enter h if too high, enter l if too low, enter c if correct\")\n",
        "\n",
        "    if feedback == \"c\":\n",
        "      print(f\"Ai guessed the correct number in {attempts} attempts\") #if the number is guessed correctly\n",
        "      return\n",
        "\n",
        "    elif feedback == \"h\":\n",
        "      high = current_guess - 1 # if too high, adjust upper bound\n",
        "    elif feedback == \"l\":\n",
        "      low = current_guess + 1 # if too low, adjust lower bound\n",
        "\n",
        "    else:\n",
        "        # If the input is not 'h', 'l', or 'c', show an error and break the loop\n",
        "        print(\"Something went wrong! Invalid input.\")\n",
        "        return  # Exit the game if invalid input is detected\n",
        "\n",
        "# exits the loop without finding the correct number\n",
        "  if attempts >= max_attempts:\n",
        "      print(f\"AI couldn't guess the number within {max_attempts} attempts.\")\n",
        "  else:\n",
        "      print(\"Something went wrong!\")\n",
        "\n",
        "# to run the code\n",
        "dfs_number_guessing_game()"
      ],
      "metadata": {
        "colab": {
          "base_uri": "https://localhost:8080/"
        },
        "id": "1jw0NoYyle00",
        "outputId": "836300ea-c856-49f8-8c41-f9d4de25f1f1"
      },
      "execution_count": null,
      "outputs": [
        {
          "output_type": "stream",
          "name": "stdout",
          "text": [
            "think of a number between 1 to 100 and AI will guess it\n",
            "Ai guess is: 27\n",
            "enter h if too high, enter l if too low, enter c if correctl\n",
            "Ai guess is: 88\n",
            "enter h if too high, enter l if too low, enter c if correcth\n",
            "Ai guess is: 85\n",
            "enter h if too high, enter l if too low, enter c if correctl\n",
            "Ai guess is: 86\n",
            "enter h if too high, enter l if too low, enter c if correcth\n",
            "Something went wrong!\n"
          ]
        }
      ]
    },
    {
      "cell_type": "code",
      "source": [
        "def bfs_systematic_number_guessing_game():\n",
        "    # Introduce the game\n",
        "    print(\"Think of a number between 1 to 100, and AI will try to guess it.\")\n",
        "\n",
        "    low = 1\n",
        "    high = 100\n",
        "    attempts = 0\n",
        "    max_attempts = 10  # Maximum number of attempts\n",
        "\n",
        "    # Loop until the correct guess or until max attempts are reached\n",
        "    while attempts < max_attempts and low <= high:\n",
        "        current_guess = (low + high) // 2  # Systematically guess the midpoint of the current range\n",
        "        attempts += 1\n",
        "\n",
        "        print(f\"AI's guess is: {current_guess} (Attempt {attempts}/{max_attempts})\")\n",
        "\n",
        "        # Get feedback from the player\n",
        "        feedback = input(\"Enter 'h' if too high, 'l' if too low, or 'c' if correct: \").lower()\n",
        "\n",
        "        if feedback == 'c':\n",
        "            print(f\"AI guessed the correct number in {attempts} attempts!\")\n",
        "            return\n",
        "        elif feedback == 'h':\n",
        "            high = current_guess - 1  # Adjust the upper bound\n",
        "        elif feedback == 'l':\n",
        "            low = current_guess + 1  # Adjust the lower bound\n",
        "        else:\n",
        "            # Handle invalid input\n",
        "            print(\"Something went wrong! Invalid input.\")\n",
        "            return\n",
        "\n",
        "    # If max attempts are reached and the correct number wasn't guessed\n",
        "    if attempts >= max_attempts:\n",
        "        print(f\"AI couldn't guess the number within {max_attempts} attempts.\")\n",
        "    else:\n",
        "        print(\"Something went wrong!\")\n",
        "\n",
        "# Run the BFS systematic guessing game\n",
        "bfs_systematic_number_guessing_game()"
      ],
      "metadata": {
        "colab": {
          "base_uri": "https://localhost:8080/"
        },
        "id": "57kwafAs8ewt",
        "outputId": "d439285c-3bc4-4b38-8e61-8ceead98fbc2"
      },
      "execution_count": null,
      "outputs": [
        {
          "output_type": "stream",
          "name": "stdout",
          "text": [
            "Think of a number between 1 to 100, and AI will try to guess it.\n",
            "AI's guess is: 50 (Attempt 1/10)\n",
            "Enter 'h' if too high, 'l' if too low, or 'c' if correct: l\n",
            "AI's guess is: 75 (Attempt 2/10)\n",
            "Enter 'h' if too high, 'l' if too low, or 'c' if correct: l\n",
            "AI's guess is: 88 (Attempt 3/10)\n",
            "Enter 'h' if too high, 'l' if too low, or 'c' if correct: h\n",
            "AI's guess is: 81 (Attempt 4/10)\n",
            "Enter 'h' if too high, 'l' if too low, or 'c' if correct: h\n",
            "AI's guess is: 78 (Attempt 5/10)\n",
            "Enter 'h' if too high, 'l' if too low, or 'c' if correct: h\n",
            "AI's guess is: 76 (Attempt 6/10)\n",
            "Enter 'h' if too high, 'l' if too low, or 'c' if correct: c\n",
            "AI guessed the correct number in 6 attempts!\n"
          ]
        }
      ]
    },
    {
      "cell_type": "code",
      "source": [
        "import random\n",
        "\n",
        "# Define the golden ratio\n",
        "GOLDEN_RATIO = (1 + 5 ** 0.5) / 2\n",
        "\n",
        "def golden_ratio_number_guessing_game():\n",
        "    print(\"Think of a number between 1 and 100, and I (the AI) will try to guess it.\")\n",
        "\n",
        "    low = 1\n",
        "    high = 100\n",
        "    attempts = 0\n",
        "    max_attempts = 10\n",
        "\n",
        "    while attempts < max_attempts and low <= high:\n",
        "        # Calculate the two points within the range based on the golden ratio\n",
        "        range_size = high - low\n",
        "        middle1 = high - int(range_size / GOLDEN_RATIO)\n",
        "        middle2 = low + int(range_size / GOLDEN_RATIO)\n",
        "\n",
        "        # AI chooses one of the two points randomly\n",
        "        current_guess = random.choice([middle1, middle2])\n",
        "\n",
        "        attempts += 1\n",
        "        print(f\"AI's guess is: {current_guess} (Attempt {attempts}/{max_attempts})\")\n",
        "\n",
        "        feedback = input(\"Enter 'h' if too high, 'l' if too low, or 'c' if correct: \").lower()\n",
        "\n",
        "        if feedback == 'c':\n",
        "            print(f\"AI guessed your number in {attempts} attempts!\")\n",
        "            return\n",
        "        elif feedback == 'h':\n",
        "            high = current_guess - 1  # Adjust the upper bound if guess is too high\n",
        "        elif feedback == 'l':\n",
        "            low = current_guess + 1  # Adjust the lower bound if guess is too low\n",
        "        else:\n",
        "            print(\"Something went wrong! Invalid input.\")\n",
        "            return\n",
        "\n",
        "    # If AI couldn't guess within the max number of attempts\n",
        "    if attempts >= max_attempts:\n",
        "        print(f\"AI couldn't guess your number within {max_attempts} attempts.\")\n",
        "\n",
        "# Run the Golden Ratio version of the game\n",
        "golden_ratio_number_guessing_game()\n",
        "\n",
        "\n",
        "#The Golden Ratio is used in search algorithms because it optimally splits a range into unequal parts, focusing more on the smaller,\n",
        "#promising section of the space. This leads to faster convergence compared to binary search,\n",
        "#balancing efficient exploration and exploitation. Its use in optimization algorithms, like the Golden Section Search,\n",
        "#demonstrates its ability to quickly narrow down on target values, making it ideal for problems like the number guessing game where rapid convergence\n",
        "#is needed within a limited number of attempts."
      ],
      "metadata": {
        "colab": {
          "base_uri": "https://localhost:8080/"
        },
        "id": "ZKGdTR-ArV80",
        "outputId": "cf54984d-b571-4657-d974-ebfd20f18fdb"
      },
      "execution_count": null,
      "outputs": [
        {
          "output_type": "stream",
          "name": "stdout",
          "text": [
            "Think of a number between 1 and 100, and I (the AI) will try to guess it.\n",
            "AI's guess is: 62 (Attempt 1/10)\n",
            "Enter 'h' if too high, 'l' if too low, or 'c' if correct: l\n",
            "AI's guess is: 78 (Attempt 2/10)\n",
            "Enter 'h' if too high, 'l' if too low, or 'c' if correct: h\n",
            "AI's guess is: 71 (Attempt 3/10)\n",
            "Enter 'h' if too high, 'l' if too low, or 'c' if correct: l\n",
            "AI's guess is: 75 (Attempt 4/10)\n",
            "Enter 'h' if too high, 'l' if too low, or 'c' if correct: l\n",
            "AI's guess is: 76 (Attempt 5/10)\n",
            "Enter 'h' if too high, 'l' if too low, or 'c' if correct: c\n",
            "AI guessed your number in 5 attempts!\n"
          ]
        }
      ]
    }
  ]
}